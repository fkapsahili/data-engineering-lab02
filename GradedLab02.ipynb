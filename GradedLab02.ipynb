{
 "cells": [
  {
   "cell_type": "markdown",
   "metadata": {},
   "source": [
    "# Data Engineering 1: Graded Lab 02\n",
    "---------------"
   ]
  },
  {
   "cell_type": "markdown",
   "metadata": {},
   "source": [
    "#### Grading\n",
    "For this graded lab you can get a total of 20 points. These 20 points count 10% of your final grade for the course.\n",
    "\n",
    "#### Start\n",
    "Start of the Graded Lab 02 is **Wednesday, May 04th at 23:55**.\n",
    "\n",
    "#### Deadline\n",
    "Deadline for the submission of the Graded Lab 02 is **Wednesday, May 18th at 23:59**.\n",
    "\n",
    "#### Note\n",
    "Check each result carefully. Use data filter, cleaning, and transformation methods wherever needed. The data can sometimes be really messy and have hidden issues.\n",
    "\n",
    "#### Submission\n",
    "You are allowed to submit the solution in groups of **two or three** students.\n",
    "Submit your GradedLab02.ipynb file renamed to FirstnameStudent01LastnameStudent01_FirstnameStudent02LastnameStudent02_FirstnameStudent03LastnameStudent03.ipynb in moodle.   \n",
    "Please submit a runnable python jupyter notebook file.\n",
    "All other submissions will be rejected and graded with 0 points."
   ]
  },
  {
   "cell_type": "markdown",
   "metadata": {},
   "source": [
    "#### Task 01: Data Engineering with MongoDB [8 points].    \n",
    "The 'restaurants_mongodb.json' file contains a dataset with a collection of restaurant information. In this task we work with this data and the MongoDB database. Run a MongoDB community server (see here https://www.mongodb.com/try/download/community) on your machine and connect to it with the python library 'pymongo'. It is also allowed to formulate and run the queries by using a MongoDB GUI. If you choose this option just copy and paste the queries into the cell (c) below."
   ]
  },
  {
   "cell_type": "markdown",
   "metadata": {},
   "source": [
    "##### __(a)  Create a database called data and a collection called restaurants in the database data.__ "
   ]
  },
  {
   "cell_type": "code",
   "execution_count": null,
   "metadata": {},
   "outputs": [],
   "source": [
    "import pymongo\n",
    "\n",
    "client = pymongo.MongoClient(\"mongodb://localhost:27017/\")\n",
    "db = client[\"data\"]\n",
    "\n",
    "col = db[\"restaurants\"]\n",
    "\n",
    "db.restaurants.drop()"
   ]
  },
  {
   "cell_type": "markdown",
   "metadata": {},
   "source": [
    "##### __(b)  Insert the documents from the file 'restaurants.json' into the collection restaurants.__ "
   ]
  },
  {
   "cell_type": "code",
   "execution_count": null,
   "metadata": {},
   "outputs": [],
   "source": [
    "import json\n",
    "\n",
    "json_file = 'restaurants_mongodb.json'\n",
    "data = [json.loads(line) for line in open(json_file, 'r')]\n",
    "\n",
    "col.insert_many(data)\n",
    "\n",
    "# show the first inserted document\n",
    "print(col.find_one())"
   ]
  },
  {
   "cell_type": "markdown",
   "metadata": {},
   "source": [
    "##### (c)  Write the queries to print the requested results.\n",
    "\n",
    "* (1) write the query to print the total number of documents in the collection 'restaurants'\n",
    "* (2) write the query to print 5 restaurant names with 'Bronx' as borough from the collection 'restaurants'\n",
    "* (3) Write the query to print the restaurant names that achieved a score, more than 80 but less than 100 from the c collection 'restaurants'\n",
    "* (4) Write the query to print the restaurant names for those restaurants which contain 'Wil' as first three letters in its name.\n",
    "* (5) Write the query to print the restaurant names which are not belonging to the borough Staten Island or Queens or Bronx or Brooklyn.\n",
    "* (6) Write the query to print each borough and the number of restaurants for each borough (hint: use the grouping function)\n",
    "* (7) Write the query to print the restaurant names which have the term 'Mexican' in the name attribute but don't have mexican as content in the cuisine attribute.\n",
    "* (8) Write the query to print all names of bakeries with 'sugar' in the name."
   ]
  },
  {
   "cell_type": "code",
   "execution_count": null,
   "metadata": {},
   "outputs": [],
   "source": [
    "# (1) Find the total number of documents in the collection 'restaurants'.\n",
    "print(\"\\n(1)\")\n",
    "print(col.count_documents({}))\n",
    "\n",
    "# (2) Print 5 restaurant names with 'Bronx' as the borough.\n",
    "print(\"\\n(2)\")\n",
    "cur = col.find({\"borough\": \"Bronx\"}).limit(5)\n",
    "for doc in cur:\n",
    "    if doc[\"name\"]:\n",
    "        print(doc[\"name\"])\n",
    "    else:\n",
    "        print(f\"No name but id is {doc['_id']}\")\n",
    "\n",
    "# (3) Print the restaurant names that achieved a score, more than 80 but less than 100.\n",
    "print(\"\\n(3)\")\n",
    "cur = col.find({\"grades.score\": {\"$gt\": 80, \"$lt\": 100}})\n",
    "for doc in cur:\n",
    "    print(doc[\"name\"])\n"
   ]
  },
  {
   "cell_type": "code",
   "execution_count": null,
   "metadata": {},
   "outputs": [],
   "source": [
    "# (4) Print the restaurant names that contain 'Wil' as the first three letters in its name.\n",
    "print(\"\\n(4)\")\n",
    "cur = col.find({\"name\": {\"$regex\": \"^Wil\"}})\n",
    "for doc in cur:\n",
    "    print(doc[\"name\"])\n",
    "    "
   ]
  },
  {
   "cell_type": "code",
   "execution_count": null,
   "metadata": {},
   "outputs": [],
   "source": [
    "# (5) Write the query to print the restaurant names which are not belonging to the borough Staten Island or Queens or Bronx or Brooklyn.\n",
    "print(\"\\n(5)\")\n",
    "cur = col.find({\"borough\": {\"$nin\": [\"Staten Island\", \"Queens\", \"Bronx\", \"Brooklyn\"]}})\n",
    "for doc in cur:\n",
    "    print(doc[\"name\"])"
   ]
  },
  {
   "cell_type": "code",
   "execution_count": null,
   "metadata": {},
   "outputs": [],
   "source": [
    "# (6) Print each borough and the number of restaurants for each borough.\n",
    "print(\"\\n(6)\")\n",
    "cur = col.aggregate([\n",
    "    {\"$group\": {\"_id\": \"$borough\", \"count\": {\"$sum\": 1}}}\n",
    "])\n",
    "for doc in cur:\n",
    "    print(doc[\"_id\"], doc[\"count\"])\n"
   ]
  },
  {
   "cell_type": "code",
   "execution_count": null,
   "metadata": {},
   "outputs": [],
   "source": [
    "# Print the restaurant names which have the term 'Mexican' in the name attribute but don't have mexican as content in the cuisine attribute.\n",
    "print(\"\\n(7)\")\n",
    "cur = col.find({\"name\": {\"$regex\": \"Mexican\"}, \"cuisine\": {\"$ne\": \"Mexican\"}})\n",
    "for doc in cur:\n",
    "    print(doc[\"name\"])\n"
   ]
  },
  {
   "cell_type": "code",
   "execution_count": null,
   "metadata": {},
   "outputs": [],
   "source": [
    "# Print all names of bakeries with 'sugar' in the name.\n",
    "print(\"\\n(8)\")\n",
    "cur = col.find({\"name\": {\"$regex\": \"sugar\", \"$options\" : \"i\"}, \"cuisine\": {\"$regex\": \"(?i)bakery\"}})\n",
    "for doc in cur:\n",
    "    print(doc[\"name\"])"
   ]
  },
  {
   "cell_type": "markdown",
   "metadata": {},
   "source": [
    "#### Task 02:  Data Engineering with  BaseX [8 points]. \n",
    "Install the BaseX XML database and create a database with the file 'restaurants_basex.json'. Formulate all queries from the Task 01 (1) to (8) with XPath/XQuery in BaseX. The content of both json files is the same, so you should retrieve the same results as with the MongoDB solution. You can execute the queries directly in the BaseX GUI. After succesful execution in BaseX just copy and paste the queries into the cell below. If a query is not expressible in XPath/XQuery write down not possible and the reason."
   ]
  },
  {
   "cell_type": "markdown",
   "metadata": {},
   "source": [
    "Answer...\n",
    "\n",
    "(1) \n",
    "count(collection(\"restaurants\")//address)\n",
    "\n",
    "(2)\n",
    "(for $item in collection(\"restaurants\")//_\n",
    "where $item/borough = \"Bronx\"\n",
    "return $item/name/text())[position() = 1 to 5]\n",
    "\n",
    "(3) \n",
    "???\n",
    "\n",
    "(4)\n",
    "for $item in collection(\"restaurants\")//_\n",
    "where matches($item/name, \"^Wil\")\n",
    "return $item/name/text()\n",
    "\n",
    "(5)\n",
    "for $item in collection(\"restaurants\")//_\n",
    "where not(matches($item/borough, \"Staten Island\"))\n",
    "and not(matches($item/borough, \"Queens\"))\n",
    "and not(matches($item/borough, \"Bronx\"))\n",
    "and not(matches($item/borough, \"Brooklyn\"))\n",
    "return $item/name/text()\n",
    "\n",
    "(6)\n",
    "for $item in collection(\"restaurants\")//_\n",
    "let $item_ref := $item/borough\n",
    "group by $item_ref\n",
    "return($item_ref, count($item))\n",
    "\n",
    "(7)\n",
    "for $item in collection(\"restaurants\")//_\n",
    "where matches($item/name, \"Mexican\")\n",
    "and not(matches($item/cuisine, \"Mexican\"))\n",
    "return $item/name/text()\n",
    "\n",
    "(8)\n",
    "for $item in collection(\"restaurants\")//_\n",
    "where matches($item/cuisine, \"Bakery\")\n",
    "and matches($item/name, \"sugar\", \"i\")\n",
    "return $item/name/text()"
   ]
  },
  {
   "cell_type": "markdown",
   "metadata": {},
   "source": [
    "#### Task 03: Conclusions [4 points]. \n",
    "Write 5-10 sentences with your conclusions concerning performance, usability etc. between using MongoDB and BaseX."
   ]
  },
  {
   "cell_type": "markdown",
   "metadata": {},
   "source": [
    "When setting up BaseX, it quickly becomes apparent that the installation is much more complex and less self-explanatory than that of MongoDB. Since MongoDB is one of the most widely used document stores, it is easy to find relevant resources on the Internet if you have initial difficulties, which is less the case with BaseX. BaseX offers as well as MongoDB an interactive GUI, which is however also less user-friendly than that of MongoDB. MongoDB offers many server-side integrations, including Python with the library pymongo, with a very simple API that makes it very easy to create and manage a MongoDB database and write queries directly in Python, which is not the case with BaseX.\n",
    "XQuery is a suitable tool to analyze XML data, which MongoDB is not.\n",
    "\n",
    "MongoDB also offers the possibility to keep some or all structures only in main memory by means of in-memory support, which BaseX does not offer and thus represents a performance advantage.\n",
    "\n"
   ]
  }
 ],
 "metadata": {
  "interpreter": {
   "hash": "aee8b7b246df8f9039afb4144a1f6fd8d2ca17a180786b69acc140d282b71a49"
  },
  "kernelspec": {
   "display_name": "Python 3",
   "language": "python",
   "name": "python3"
  },
  "language_info": {
   "codemirror_mode": {
    "name": "ipython",
    "version": 3
   },
   "file_extension": ".py",
   "mimetype": "text/x-python",
   "name": "python",
   "nbconvert_exporter": "python",
   "pygments_lexer": "ipython3",
   "version": "3.10.1"
  }
 },
 "nbformat": 4,
 "nbformat_minor": 4
}
